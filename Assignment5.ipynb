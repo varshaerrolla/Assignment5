{
  "nbformat": 4,
  "nbformat_minor": 0,
  "metadata": {
    "colab": {
      "provenance": []
    },
    "kernelspec": {
      "name": "python3",
      "display_name": "Python 3"
    },
    "language_info": {
      "name": "python"
    }
  },
  "cells": [
    {
      "cell_type": "code",
      "execution_count": null,
      "metadata": {
        "id": "avfGFSpY_4ZU"
      },
      "outputs": [],
      "source": [
        "import pandas as pd #Basic packages for creating dataframes and loading dataset\n",
        "import numpy as np\n",
        "\n",
        "import matplotlib.pyplot as plt #Package for visualization\n",
        "\n",
        "import re #importing package for Regular expression operations\n",
        "\n",
        "from sklearn.model_selection import train_test_split #Package for splitting the data\n",
        "\n",
        "from sklearn.preprocessing import LabelEncoder #Package for conversion of categorical to Numerical\n",
        "\n",
        "from keras.preprocessing.text import Tokenizer #Tokenization\n",
        "from tensorflow.keras.preprocessing.sequence import pad_sequences #Add zeros or crop based on the length\n",
        "from keras.models import Sequential #Sequential Neural Network\n",
        "from keras.layers import Dense, Embedding, LSTM, SpatialDropout1D #For layers in Neural Network\n",
        "from keras.utils.np_utils import to_categorical"
      ]
    },
    {
      "cell_type": "code",
      "source": [
        "from google.colab import drive\n",
        "drive.mount('/content/gdrive')"
      ],
      "metadata": {
        "colab": {
          "base_uri": "https://localhost:8080/"
        },
        "id": "RXVh5VMFAMUx",
        "outputId": "22749387-92ca-43d9-b0ea-d478206c3a93"
      },
      "execution_count": null,
      "outputs": [
        {
          "output_type": "stream",
          "name": "stdout",
          "text": [
            "Mounted at /content/gdrive\n"
          ]
        }
      ]
    },
    {
      "cell_type": "code",
      "source": [
        "import pandas as pd\n",
        "\n",
        "# Load the dataset as a Pandas DataFrame\n",
        "dataset = pd.read_csv('/content/Sentiment (1).csv')\n",
        "\n",
        "# Select only the necessary columns 'text' and 'sentiment'\n",
        "mask = dataset.columns.isin(['text', 'sentiment'])\n",
        "data = dataset.loc[:, mask]\n",
        "\n",
        "# Keeping only the necessary columns\n",
        "data['text'] = data['text'].apply(lambda x: x.lower())\n",
        "data['text'] = data['text'].apply((lambda x: re.sub('[^a-zA-z0-9\\s]', '', x)))"
      ],
      "metadata": {
        "colab": {
          "base_uri": "https://localhost:8080/"
        },
        "id": "ttPWrTfmDR9W",
        "outputId": "20fd3ce4-f684-4aa7-d09e-bae5d2250a68"
      },
      "execution_count": null,
      "outputs": [
        {
          "output_type": "stream",
          "name": "stderr",
          "text": [
            "<ipython-input-17-a9465a1f0d22>:11: SettingWithCopyWarning: \n",
            "A value is trying to be set on a copy of a slice from a DataFrame.\n",
            "Try using .loc[row_indexer,col_indexer] = value instead\n",
            "\n",
            "See the caveats in the documentation: https://pandas.pydata.org/pandas-docs/stable/user_guide/indexing.html#returning-a-view-versus-a-copy\n",
            "  data['text'] = data['text'].apply(lambda x: x.lower())\n",
            "<ipython-input-17-a9465a1f0d22>:12: SettingWithCopyWarning: \n",
            "A value is trying to be set on a copy of a slice from a DataFrame.\n",
            "Try using .loc[row_indexer,col_indexer] = value instead\n",
            "\n",
            "See the caveats in the documentation: https://pandas.pydata.org/pandas-docs/stable/user_guide/indexing.html#returning-a-view-versus-a-copy\n",
            "  data['text'] = data['text'].apply((lambda x: re.sub('[^a-zA-z0-9\\s]', '', x)))\n"
          ]
        }
      ]
    },
    {
      "cell_type": "code",
      "source": [
        "for idx, row in data.iterrows():\n",
        "    row[0] = row[0].replace('rt', ' ') #Removing Retweets\n",
        "    max_fatures = 2000\n",
        "tokenizer = Tokenizer(num_words=max_fatures, split=' ') #Maximum words is 2000 to tokenize sentence\n",
        "tokenizer.fit_on_texts(data['text'].values)\n",
        "X = tokenizer.texts_to_sequences(data['text'].values) #taking values to feature matrix\n",
        "X = pad_sequences(X) #Padding the feature matrix\n",
        "\n",
        "embed_dim = 128 #Dimension of the Embedded layer\n",
        "lstm_out = 196 #Long short-term memory (LSTM) layer neurons\n",
        "def createmodel():\n",
        "    model = Sequential() #Sequential Neural Network\n",
        "    model.add(Embedding(max_fatures, embed_dim,input_length = X.shape[1])) #input dimension 2000 Neurons, output dimension 128 Neurons\n",
        "    model.add(LSTM(lstm_out, dropout=0.2, recurrent_dropout=0.2)) #Drop out 20%, 196 output Neurons, recurrent dropout 20%\n",
        "    model.add(Dense(3,activation='softmax')) #3 output neurons[positive, Neutral, Negative], softmax as activation\n",
        "    model.compile(loss = 'categorical_crossentropy', optimizer='adam',metrics = ['accuracy']) #Compiling the model\n",
        "    return model\n",
        "# print(model.summary())\n",
        "labelencoder = LabelEncoder() #Applying label Encoding on the label matrix\n",
        "integer_encoded = labelencoder.fit_transform(data['sentiment']) #fitting the model\n",
        "y = to_categorical(integer_encoded)\n",
        "X_train, X_test, Y_train, Y_test = train_test_split(X,y, test_size = 0.33, random_state = 42) #67% training data, 33% test data split\n",
        "batch_size = 32 #Batch size 32\n",
        "model = createmodel() #Function call to Sequential Neural Network\n",
        "model.fit(X_train, Y_train, epochs = 1, batch_size=batch_size, verbose = 2) #verbose the higher, the more messages\n",
        "score,acc = model.evaluate(X_test,Y_test,verbose=2,batch_size=batch_size) #evaluating the model\n",
        "print(score)\n",
        "print(acc)"
      ],
      "metadata": {
        "colab": {
          "base_uri": "https://localhost:8080/"
        },
        "id": "y1-0axRrEly0",
        "outputId": "1a985cdd-f1e2-4d58-869f-a2eacea952f8"
      },
      "execution_count": null,
      "outputs": [
        {
          "output_type": "stream",
          "name": "stdout",
          "text": [
            "291/291 - 62s - loss: 0.8190 - accuracy: 0.6458 - 62s/epoch - 214ms/step\n",
            "144/144 - 3s - loss: 0.7528 - accuracy: 0.6754 - 3s/epoch - 21ms/step\n",
            "0.7527750134468079\n",
            "0.6754041314125061\n"
          ]
        }
      ]
    },
    {
      "cell_type": "code",
      "source": [
        "print(model.metrics_names) #metrics of the model\n"
      ],
      "metadata": {
        "colab": {
          "base_uri": "https://localhost:8080/"
        },
        "id": "mEDOcgKZFJUR",
        "outputId": "8d729633-eb7e-4c53-cec0-7926961212c4"
      },
      "execution_count": null,
      "outputs": [
        {
          "output_type": "stream",
          "name": "stdout",
          "text": [
            "['loss', 'accuracy']\n"
          ]
        }
      ]
    },
    {
      "cell_type": "code",
      "source": [
        "#1. Save the model and use the saved model to predict on new text data (ex, “A lot of good things are happening. We are respected again"
      ],
      "metadata": {
        "id": "IwegzG2CFSmJ"
      },
      "execution_count": null,
      "outputs": []
    },
    {
      "cell_type": "code",
      "source": [
        "model.save('sentimentAnalysis.h5') #Saving the model"
      ],
      "metadata": {
        "id": "_KDl1mZAFVdr"
      },
      "execution_count": null,
      "outputs": []
    },
    {
      "cell_type": "code",
      "source": [
        "from keras.models import load_model #Importing the package for importing the saved model\n",
        "model= load_model('sentimentAnalysis.h5') #loading the saved model"
      ],
      "metadata": {
        "id": "hUxURJiJFbv7"
      },
      "execution_count": null,
      "outputs": []
    },
    {
      "cell_type": "code",
      "source": [
        "print(integer_encoded)\n",
        "print(data['sentiment'])"
      ],
      "metadata": {
        "colab": {
          "base_uri": "https://localhost:8080/"
        },
        "id": "UkyPQfQgFjU_",
        "outputId": "27482d29-0c2e-4fd1-b50a-0d3b22b2e70a"
      },
      "execution_count": null,
      "outputs": [
        {
          "output_type": "stream",
          "name": "stdout",
          "text": [
            "[1 2 1 ... 2 0 2]\n",
            "0         Neutral\n",
            "1        Positive\n",
            "2         Neutral\n",
            "3        Positive\n",
            "4        Positive\n",
            "           ...   \n",
            "13866    Negative\n",
            "13867    Positive\n",
            "13868    Positive\n",
            "13869    Negative\n",
            "13870    Positive\n",
            "Name: sentiment, Length: 13871, dtype: object\n"
          ]
        }
      ]
    },
    {
      "cell_type": "code",
      "source": [
        "# Predicting on the text data\n",
        "sentence = ['A lot of good things are happening. We are respected again throughout the world, and that is a great thing.@realDonaldTrump']\n",
        "sentence = tokenizer.texts_to_sequences(sentence) # Tokenizing the sentence\n",
        "sentence = pad_sequences(sentence, maxlen=28, dtype='int32', value=0) # Padding the sentence\n",
        "sentiment_probs = model.predict(sentence, batch_size=1, verbose=2)[0] # Predicting the sentence text\n",
        "sentiment = np.argmax(sentiment_probs)\n",
        "\n",
        "print(sentiment_probs)\n",
        "if sentiment == 0:\n",
        "    print(\"Neutral\")\n",
        "elif sentiment < 0:\n",
        "    print(\"Negative\")\n",
        "elif sentiment > 0:\n",
        "    print(\"Positive\")\n",
        "else:\n",
        "    print(\"Cannot be determined\")"
      ],
      "metadata": {
        "colab": {
          "base_uri": "https://localhost:8080/"
        },
        "id": "x0iQgmb6FrkD",
        "outputId": "39bc46a0-f0ee-40a9-ef37-0c5238840ea2"
      },
      "execution_count": null,
      "outputs": [
        {
          "output_type": "stream",
          "name": "stdout",
          "text": [
            "1/1 - 0s - 334ms/epoch - 334ms/step\n",
            "[0.50330395 0.16095541 0.33574063]\n",
            "Neutral\n"
          ]
        }
      ]
    },
    {
      "cell_type": "code",
      "source": [
        "#2. Apply GridSearchCV on the source code provided in the class"
      ],
      "metadata": {
        "id": "Wfqt9pd3Fx0W"
      },
      "execution_count": null,
      "outputs": []
    },
    {
      "cell_type": "code",
      "source": [
        "from keras.wrappers.scikit_learn import KerasClassifier #importing Keras classifier\n",
        "from sklearn.model_selection import GridSearchCV #importing Grid search CV\n",
        "\n",
        "model = KerasClassifier(build_fn=createmodel,verbose=2) #initiating model to test performance by applying multiple hyper parameters\n",
        "batch_size= [10, 20, 40] #hyper parameter batch_size\n",
        "epochs = [1, 2] #hyper parameter no. of epochs\n",
        "param_grid= {'batch_size':batch_size, 'epochs':epochs} #creating dictionary for batch size, no. of epochs\n",
        "grid  = GridSearchCV(estimator=model, param_grid=param_grid) #Applying dictionary with hyper parameters\n",
        "grid_result= grid.fit(X_train,Y_train) #Fitting the model\n",
        "# summarize results\n",
        "print(\"Best: %f using %s\" % (grid_result.best_score_, grid_result.best_params_)) #best score, best hyper parameters"
      ],
      "metadata": {
        "colab": {
          "base_uri": "https://localhost:8080/"
        },
        "id": "2YxkEIDRF2rO",
        "outputId": "8626e3d9-65b4-4380-8442-b808347e1a5a"
      },
      "execution_count": null,
      "outputs": [
        {
          "metadata": {
            "tags": null
          },
          "name": "stderr",
          "output_type": "stream",
          "text": [
            "<ipython-input-26-6c99b49150f4>:4: DeprecationWarning: KerasClassifier is deprecated, use Sci-Keras (https://github.com/adriangb/scikeras) instead. See https://www.adriangb.com/scikeras/stable/migration.html for help migrating.\n",
            "  model = KerasClassifier(build_fn=createmodel,verbose=2) #initiating model to test performance by applying multiple hyper parameters\n"
          ]
        },
        {
          "output_type": "stream",
          "name": "stdout",
          "text": [
            "744/744 - 105s - loss: 0.8303 - accuracy: 0.6426 - 105s/epoch - 141ms/step\n",
            "186/186 - 3s - loss: 0.7577 - accuracy: 0.6654 - 3s/epoch - 14ms/step\n",
            "744/744 - 104s - loss: 0.8150 - accuracy: 0.6519 - 104s/epoch - 140ms/step\n",
            "186/186 - 3s - loss: 0.7477 - accuracy: 0.6821 - 3s/epoch - 15ms/step\n",
            "744/744 - 106s - loss: 0.8225 - accuracy: 0.6460 - 106s/epoch - 143ms/step\n",
            "186/186 - 3s - loss: 0.7429 - accuracy: 0.6832 - 3s/epoch - 14ms/step\n",
            "744/744 - 108s - loss: 0.8247 - accuracy: 0.6440 - 108s/epoch - 145ms/step\n",
            "186/186 - 3s - loss: 0.7540 - accuracy: 0.6814 - 3s/epoch - 14ms/step\n",
            "744/744 - 105s - loss: 0.8178 - accuracy: 0.6480 - 105s/epoch - 141ms/step\n",
            "186/186 - 3s - loss: 0.7837 - accuracy: 0.6712 - 3s/epoch - 15ms/step\n",
            "Epoch 1/2\n",
            "744/744 - 106s - loss: 0.8185 - accuracy: 0.6517 - 106s/epoch - 142ms/step\n",
            "Epoch 2/2\n",
            "744/744 - 101s - loss: 0.6753 - accuracy: 0.7181 - 101s/epoch - 136ms/step\n",
            "186/186 - 4s - loss: 0.7383 - accuracy: 0.6724 - 4s/epoch - 19ms/step\n",
            "Epoch 1/2\n",
            "744/744 - 109s - loss: 0.8229 - accuracy: 0.6470 - 109s/epoch - 146ms/step\n",
            "Epoch 2/2\n",
            "744/744 - 96s - loss: 0.6818 - accuracy: 0.7078 - 96s/epoch - 129ms/step\n",
            "186/186 - 3s - loss: 0.7490 - accuracy: 0.6821 - 3s/epoch - 14ms/step\n",
            "Epoch 1/2\n",
            "744/744 - 100s - loss: 0.8246 - accuracy: 0.6450 - 100s/epoch - 135ms/step\n",
            "Epoch 2/2\n",
            "744/744 - 95s - loss: 0.6711 - accuracy: 0.7129 - 95s/epoch - 128ms/step\n",
            "186/186 - 3s - loss: 0.7733 - accuracy: 0.6805 - 3s/epoch - 15ms/step\n",
            "Epoch 1/2\n",
            "744/744 - 106s - loss: 0.8254 - accuracy: 0.6426 - 106s/epoch - 142ms/step\n",
            "Epoch 2/2\n",
            "744/744 - 99s - loss: 0.6710 - accuracy: 0.7189 - 99s/epoch - 133ms/step\n",
            "186/186 - 3s - loss: 0.7499 - accuracy: 0.6706 - 3s/epoch - 16ms/step\n",
            "Epoch 1/2\n",
            "744/744 - 100s - loss: 0.8149 - accuracy: 0.6531 - 100s/epoch - 135ms/step\n",
            "Epoch 2/2\n",
            "744/744 - 97s - loss: 0.6673 - accuracy: 0.7154 - 97s/epoch - 131ms/step\n",
            "186/186 - 3s - loss: 0.7773 - accuracy: 0.6706 - 3s/epoch - 15ms/step\n",
            "372/372 - 57s - loss: 0.8325 - accuracy: 0.6411 - 57s/epoch - 153ms/step\n",
            "93/93 - 3s - loss: 0.7758 - accuracy: 0.6509 - 3s/epoch - 32ms/step\n",
            "372/372 - 60s - loss: 0.8289 - accuracy: 0.6435 - 60s/epoch - 160ms/step\n",
            "93/93 - 3s - loss: 0.7649 - accuracy: 0.6729 - 3s/epoch - 28ms/step\n",
            "372/372 - 56s - loss: 0.8327 - accuracy: 0.6391 - 56s/epoch - 150ms/step\n",
            "93/93 - 2s - loss: 0.7521 - accuracy: 0.6821 - 2s/epoch - 21ms/step\n",
            "372/372 - 55s - loss: 0.8321 - accuracy: 0.6455 - 55s/epoch - 148ms/step\n",
            "93/93 - 2s - loss: 0.7504 - accuracy: 0.6749 - 2s/epoch - 19ms/step\n",
            "372/372 - 61s - loss: 0.8241 - accuracy: 0.6437 - 61s/epoch - 163ms/step\n",
            "93/93 - 2s - loss: 0.7913 - accuracy: 0.6598 - 2s/epoch - 22ms/step\n",
            "Epoch 1/2\n",
            "372/372 - 59s - loss: 0.8321 - accuracy: 0.6454 - 59s/epoch - 159ms/step\n",
            "Epoch 2/2\n",
            "372/372 - 54s - loss: 0.6843 - accuracy: 0.7113 - 54s/epoch - 146ms/step\n",
            "93/93 - 2s - loss: 0.7289 - accuracy: 0.6869 - 2s/epoch - 21ms/step\n",
            "Epoch 1/2\n",
            "372/372 - 57s - loss: 0.8244 - accuracy: 0.6472 - 57s/epoch - 152ms/step\n",
            "Epoch 2/2\n",
            "372/372 - 54s - loss: 0.6813 - accuracy: 0.7096 - 54s/epoch - 144ms/step\n",
            "93/93 - 3s - loss: 0.7398 - accuracy: 0.6686 - 3s/epoch - 30ms/step\n",
            "Epoch 1/2\n",
            "372/372 - 61s - loss: 0.8277 - accuracy: 0.6416 - 61s/epoch - 165ms/step\n",
            "Epoch 2/2\n",
            "372/372 - 58s - loss: 0.6821 - accuracy: 0.7131 - 58s/epoch - 157ms/step\n",
            "93/93 - 2s - loss: 0.7477 - accuracy: 0.6778 - 2s/epoch - 21ms/step\n",
            "Epoch 1/2\n",
            "372/372 - 60s - loss: 0.8304 - accuracy: 0.6422 - 60s/epoch - 161ms/step\n",
            "Epoch 2/2\n",
            "372/372 - 56s - loss: 0.6792 - accuracy: 0.7130 - 56s/epoch - 152ms/step\n",
            "93/93 - 2s - loss: 0.7377 - accuracy: 0.6765 - 2s/epoch - 21ms/step\n",
            "Epoch 1/2\n",
            "372/372 - 59s - loss: 0.8224 - accuracy: 0.6463 - 59s/epoch - 158ms/step\n",
            "Epoch 2/2\n",
            "372/372 - 55s - loss: 0.6703 - accuracy: 0.7185 - 55s/epoch - 149ms/step\n",
            "93/93 - 2s - loss: 0.7738 - accuracy: 0.6631 - 2s/epoch - 19ms/step\n",
            "186/186 - 40s - loss: 0.8512 - accuracy: 0.6357 - 40s/epoch - 213ms/step\n",
            "47/47 - 1s - loss: 0.7678 - accuracy: 0.6724 - 1s/epoch - 31ms/step\n",
            "186/186 - 39s - loss: 0.8371 - accuracy: 0.6363 - 39s/epoch - 208ms/step\n",
            "47/47 - 2s - loss: 0.7783 - accuracy: 0.6600 - 2s/epoch - 42ms/step\n",
            "186/186 - 37s - loss: 0.8466 - accuracy: 0.6313 - 37s/epoch - 198ms/step\n",
            "47/47 - 1s - loss: 0.7693 - accuracy: 0.6815 - 1s/epoch - 30ms/step\n",
            "186/186 - 37s - loss: 0.8506 - accuracy: 0.6342 - 37s/epoch - 197ms/step\n",
            "47/47 - 1s - loss: 0.7557 - accuracy: 0.6749 - 1s/epoch - 30ms/step\n",
            "186/186 - 38s - loss: 0.8329 - accuracy: 0.6434 - 38s/epoch - 206ms/step\n",
            "47/47 - 1s - loss: 0.7924 - accuracy: 0.6593 - 1s/epoch - 29ms/step\n",
            "Epoch 1/2\n",
            "186/186 - 37s - loss: 0.8508 - accuracy: 0.6348 - 37s/epoch - 201ms/step\n",
            "Epoch 2/2\n",
            "186/186 - 33s - loss: 0.7010 - accuracy: 0.7054 - 33s/epoch - 178ms/step\n",
            "47/47 - 2s - loss: 0.7377 - accuracy: 0.6896 - 2s/epoch - 43ms/step\n",
            "Epoch 1/2\n",
            "186/186 - 36s - loss: 0.8406 - accuracy: 0.6375 - 36s/epoch - 195ms/step\n",
            "Epoch 2/2\n",
            "186/186 - 34s - loss: 0.6867 - accuracy: 0.7093 - 34s/epoch - 185ms/step\n",
            "47/47 - 1s - loss: 0.7395 - accuracy: 0.6805 - 1s/epoch - 28ms/step\n",
            "Epoch 1/2\n",
            "186/186 - 39s - loss: 0.8504 - accuracy: 0.6328 - 39s/epoch - 208ms/step\n",
            "Epoch 2/2\n",
            "186/186 - 35s - loss: 0.6855 - accuracy: 0.7103 - 35s/epoch - 190ms/step\n",
            "47/47 - 1s - loss: 0.7384 - accuracy: 0.6864 - 1s/epoch - 32ms/step\n",
            "Epoch 1/2\n",
            "186/186 - 38s - loss: 0.8443 - accuracy: 0.6350 - 38s/epoch - 204ms/step\n",
            "Epoch 2/2\n",
            "186/186 - 35s - loss: 0.6799 - accuracy: 0.7119 - 35s/epoch - 186ms/step\n",
            "47/47 - 2s - loss: 0.7552 - accuracy: 0.6652 - 2s/epoch - 38ms/step\n",
            "Epoch 1/2\n",
            "186/186 - 36s - loss: 0.8417 - accuracy: 0.6320 - 36s/epoch - 192ms/step\n",
            "Epoch 2/2\n",
            "186/186 - 35s - loss: 0.6777 - accuracy: 0.7139 - 35s/epoch - 186ms/step\n",
            "47/47 - 1s - loss: 0.7791 - accuracy: 0.6539 - 1s/epoch - 29ms/step\n",
            "930/930 - 134s - loss: 0.8119 - accuracy: 0.6503 - 134s/epoch - 144ms/step\n",
            "Best: 0.676638 using {'batch_size': 10, 'epochs': 1}\n"
          ]
        }
      ]
    },
    {
      "cell_type": "markdown",
      "source": [
        "# New Section"
      ],
      "metadata": {
        "id": "MV7KomhEXV9T"
      }
    }
  ]
}